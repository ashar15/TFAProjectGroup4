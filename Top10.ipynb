{
 "cells": [
  {
   "cell_type": "code",
   "execution_count": null,
   "id": "f96d8351",
   "metadata": {},
   "outputs": [],
   "source": [
    "import pandas as pd \n",
    "import numpy as np"
   ]
  },
  {
   "cell_type": "code",
   "execution_count": null,
   "id": "17998080",
   "metadata": {},
   "outputs": [],
   "source": [
    "df = pd.read_csv ('311_Service_Requests_2020.csv')\n",
    "df"
   ]
  },
  {
   "cell_type": "code",
   "execution_count": null,
   "id": "a901491a",
   "metadata": {},
   "outputs": [],
   "source": [
    "columbia_code = df.loc[df['Incident Zip'] == 10027.0]\n",
    "columbia_code"
   ]
  },
  {
   "cell_type": "code",
   "execution_count": null,
   "id": "cb51df5a",
   "metadata": {},
   "outputs": [],
   "source": [
    "top10 = columbia_code['Complaint Type'].value_counts()[:10]\n",
    "top10"
   ]
  }
 ],
 "metadata": {
  "kernelspec": {
   "display_name": "Python 3",
   "language": "python",
   "name": "python3"
  },
  "language_info": {
   "codemirror_mode": {
    "name": "ipython",
    "version": 3
   },
   "file_extension": ".py",
   "mimetype": "text/x-python",
   "name": "python",
   "nbconvert_exporter": "python",
   "pygments_lexer": "ipython3",
   "version": "3.8.8"
  }
 },
 "nbformat": 4,
 "nbformat_minor": 5
}
