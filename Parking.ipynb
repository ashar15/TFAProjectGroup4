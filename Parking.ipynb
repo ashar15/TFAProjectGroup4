{
 "cells": [
  {
   "cell_type": "code",
   "execution_count": null,
   "id": "966cbe27-ce75-4c0f-809f-3c0b08491628",
   "metadata": {},
   "outputs": [],
   "source": [
    "import pandas as pd \n",
    "import numpy as np"
   ]
  },
  {
   "cell_type": "code",
   "execution_count": null,
   "id": "2a37755a-eb4e-46c9-802a-d54ea47c80c8",
   "metadata": {},
   "outputs": [],
   "source": [
    "df = pd.read_csv ('311_Service_Requests_2020.csv')\n",
    "df"
   ]
  },
  {
   "cell_type": "code",
   "execution_count": null,
   "id": "77a9003a-3850-4558-a3ee-a988fcc629ff",
   "metadata": {},
   "outputs": [],
   "source": [
    "total_incididents=df.shape[0]\n",
    "total_incididents"
   ]
  },
  {
   "cell_type": "code",
   "execution_count": null,
   "id": "e6e8069e-3ec9-4d17-ae64-e30338548a2f",
   "metadata": {},
   "outputs": [],
   "source": [
    "parking = df.loc[df['Complaint Type'] == 'Illegal Parking'].shape[0]\n",
    "parking"
   ]
  },
  {
   "cell_type": "code",
   "execution_count": null,
   "id": "c9f50dd0-a7d9-46b3-9152-ae43c27ff412",
   "metadata": {},
   "outputs": [],
   "source": [
    "Columbia_zip= df.loc[df['Incident Zip'] == 10027.0]\n",
    "Columbia_zip"
   ]
  },
  {
   "cell_type": "code",
   "execution_count": null,
   "id": "84457a3d-bb43-4cb2-b329-b72d1c5cfb3e",
   "metadata": {},
   "outputs": [],
   "source": [
    "Columbia_incidents = df.loc[df['Incident Zip'] == 10027.0].shape[0]\n",
    "Columbia_incidents"
   ]
  },
  {
   "cell_type": "code",
   "execution_count": null,
   "id": "0cebd292-9553-40c6-b3c8-82969645a0bb",
   "metadata": {},
   "outputs": [],
   "source": [
    "columbia_parking = Columbia_zip.loc[Columbia_zip['Complaint Type'] == 'Illegal Parking'].shape[0]\n",
    "columbia_parking"
   ]
  },
  {
   "cell_type": "code",
   "execution_count": null,
   "id": "2a5a9111-bc5f-49d5-9c56-35d4564f8b95",
   "metadata": {},
   "outputs": [],
   "source": [
    "parking_overall = parking/total_incididents\n",
    "parking_overall"
   ]
  },
  {
   "cell_type": "code",
   "execution_count": null,
   "id": "350e1b30-bccc-47a3-861a-50fb8e72d805",
   "metadata": {},
   "outputs": [],
   "source": [
    "columbia_percentage = columbia_parking/Columbia_incidents\n",
    "columbia_percentage"
   ]
  },
  {
   "cell_type": "code",
   "execution_count": null,
   "id": "ec6b42d7-0c49-4bb1-935c-26e29e56fc4b",
   "metadata": {},
   "outputs": [],
   "source": [
    "higher_parking_proportion=(columbia_percentage > parking_overall)\n",
    "higher_parking_proportion"
   ]
  }
 ],
 "metadata": {
  "kernelspec": {
   "display_name": "Python 3",
   "language": "python",
   "name": "python3"
  },
  "language_info": {
   "codemirror_mode": {
    "name": "ipython",
    "version": 3
   },
   "file_extension": ".py",
   "mimetype": "text/x-python",
   "name": "python",
   "nbconvert_exporter": "python",
   "pygments_lexer": "ipython3",
   "version": "3.8.8"
  }
 },
 "nbformat": 4,
 "nbformat_minor": 5
}
